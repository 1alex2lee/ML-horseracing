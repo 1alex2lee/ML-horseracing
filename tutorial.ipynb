{
 "cells": [
  {
   "cell_type": "code",
   "execution_count": 8,
   "metadata": {},
   "outputs": [],
   "source": [
    "from typing import Dict, Text\n",
    "\n",
    "import os\n",
    "import numpy as np\n",
    "import pandas as pd\n",
    "import tensorflow as tf\n",
    "\n",
    "import tensorflow_datasets as tfds\n",
    "import tensorflow_recommenders as tfrs"
   ]
  },
  {
   "cell_type": "code",
   "execution_count": 121,
   "metadata": {},
   "outputs": [
    {
     "data": {
      "text/plain": [
       "<_MapDataset element_spec={'movie_title': TensorSpec(shape=(), dtype=tf.string, name=None), 'user_id': TensorSpec(shape=(), dtype=tf.string, name=None)}>"
      ]
     },
     "execution_count": 121,
     "metadata": {},
     "output_type": "execute_result"
    }
   ],
   "source": [
    "# Ratings data.\n",
    "ratings = tfds.load('movielens/100k-ratings', split=\"train\")\n",
    "# Features of all the available movies.\n",
    "movies = tfds.load('movielens/100k-movies', split=\"train\")\n",
    "\n",
    "# Select the basic features.\n",
    "ratings = ratings.map(lambda x: {\n",
    "    \"movie_title\": x[\"movie_title\"],\n",
    "    \"user_id\": x[\"user_id\"]\n",
    "})\n",
    "movies = movies.map(lambda x: x[\"movie_title\"])\n",
    "\n",
    "ratings"
   ]
  },
  {
   "cell_type": "code",
   "execution_count": 128,
   "metadata": {},
   "outputs": [
    {
     "data": {
      "text/plain": [
       "<_TensorSliceDataset element_spec={'movie_title': TensorSpec(shape=(), dtype=tf.string, name=None)}>"
      ]
     },
     "execution_count": 128,
     "metadata": {},
     "output_type": "execute_result"
    }
   ],
   "source": [
    "df = pd.read_csv(os.path.join('data','all_races_cleaned.csv'), index_col=0)\n",
    "\n",
    "ratings = pd.DataFrame()\n",
    "ratings['movie_title'] = df['race_class'].astype(str)\n",
    "ratings['user_id'] = df['total_stakes'].astype(str)\n",
    "ratings = tf.data.Dataset.from_tensor_slices(dict(ratings))\n",
    "# ratings = tf.cast(ratings, tf.string)\n",
    "\n",
    "movies = pd.DataFrame()\n",
    "movies['movie_title'] = df['race_class'].astype(str)\n",
    "movies = tf.data.Dataset.from_tensor_slices(dict(movies))\n",
    "# movies = tf.cast(movies, tf.string)\n",
    "\n",
    "movies"
   ]
  },
  {
   "cell_type": "code",
   "execution_count": 129,
   "metadata": {},
   "outputs": [],
   "source": [
    "user_ids_vocabulary = tf.keras.layers.StringLookup(mask_token=None)\n",
    "user_ids_vocabulary.adapt(ratings.map(lambda x: x[\"user_id\"]))\n",
    "# user_ids_vocabulary.adapt(ratings)\n",
    "\n",
    "movie_titles_vocabulary = tf.keras.layers.StringLookup(mask_token=None)\n",
    "movie_titles_vocabulary.adapt(movies.map(lambda x: x[\"movie_title\"]))\n",
    "\n",
    "# ratings = tf.data.Dataset.from_tensor_slices(ratings)"
   ]
  },
  {
   "cell_type": "code",
   "execution_count": 143,
   "metadata": {},
   "outputs": [],
   "source": [
    "class MovieLensModel(tfrs.Model):\n",
    "  # We derive from a custom base class to help reduce boilerplate. Under the hood,\n",
    "  # these are still plain Keras Models.\n",
    "\n",
    "  def __init__(\n",
    "      self,\n",
    "      user_model: tf.keras.Model,\n",
    "      movie_model: tf.keras.Model,\n",
    "      task: tfrs.tasks.Retrieval):\n",
    "    super().__init__()\n",
    "\n",
    "    # Set up user and movie representations.\n",
    "    self.user_model = user_model\n",
    "    self.movie_model = movie_model\n",
    "\n",
    "    # Set up a retrieval task.\n",
    "    self.task = task\n",
    "\n",
    "  def compute_loss(self, features: Dict[Text, tf.Tensor], training=False) -> tf.Tensor:\n",
    "#   def compute_loss(self, features, training=False) -> tf.Tensor:\n",
    "    # Define how the loss is computed.\n",
    "    # print(tf.cast(features[0], tf.int64))\n",
    "    user_embeddings = self.user_model(features[\"user_id\"])\n",
    "    movie_embeddings = self.movie_model(features[\"movie_title\"])\n",
    "    # user_embeddings = self.user_model(tf.cast(features, tf.int64))\n",
    "    # movie_embeddings = self.movie_model(features)\n",
    "\n",
    "    return self.task(user_embeddings, movie_embeddings)"
   ]
  },
  {
   "cell_type": "code",
   "execution_count": 144,
   "metadata": {},
   "outputs": [],
   "source": [
    "# Define user and movie models.\n",
    "user_model = tf.keras.Sequential([\n",
    "    user_ids_vocabulary,\n",
    "    tf.keras.layers.Embedding(user_ids_vocabulary.vocabulary_size(), 64)\n",
    "])\n",
    "movie_model = tf.keras.Sequential([\n",
    "    movie_titles_vocabulary,\n",
    "    tf.keras.layers.Embedding(movie_titles_vocabulary.vocabulary_size(), 64)\n",
    "])\n",
    "\n",
    "# Define your objectives.\n",
    "task = tfrs.tasks.Retrieval(metrics=tfrs.metrics.FactorizedTopK(\n",
    "    movies.batch(128).map(lambda x: movie_model(x['movie_title']))\n",
    "  )\n",
    ")"
   ]
  },
  {
   "cell_type": "code",
   "execution_count": 146,
   "metadata": {},
   "outputs": [
    {
     "name": "stdout",
     "output_type": "stream",
     "text": [
      "Epoch 1/3\n"
     ]
    },
    {
     "name": "stdout",
     "output_type": "stream",
     "text": [
      "6/6 [==============================] - 7s 967ms/step - factorized_top_k/top_1_categorical_accuracy: 0.1965 - factorized_top_k/top_5_categorical_accuracy: 0.1965 - factorized_top_k/top_10_categorical_accuracy: 0.1965 - factorized_top_k/top_50_categorical_accuracy: 0.2102 - factorized_top_k/top_100_categorical_accuracy: 0.2167 - loss: 31712.0843 - regularization_loss: 0.0000e+00 - total_loss: 31712.0843\n",
      "Epoch 2/3\n",
      "6/6 [==============================] - 6s 907ms/step - factorized_top_k/top_1_categorical_accuracy: 0.2271 - factorized_top_k/top_5_categorical_accuracy: 0.2271 - factorized_top_k/top_10_categorical_accuracy: 0.2271 - factorized_top_k/top_50_categorical_accuracy: 0.2397 - factorized_top_k/top_100_categorical_accuracy: 0.2402 - loss: 26259.2796 - regularization_loss: 0.0000e+00 - total_loss: 26259.2796\n",
      "Epoch 3/3\n",
      "6/6 [==============================] - 5s 880ms/step - factorized_top_k/top_1_categorical_accuracy: 0.1934 - factorized_top_k/top_5_categorical_accuracy: 0.1934 - factorized_top_k/top_10_categorical_accuracy: 0.1934 - factorized_top_k/top_50_categorical_accuracy: 0.2036 - factorized_top_k/top_100_categorical_accuracy: 0.2052 - loss: 25502.1844 - regularization_loss: 0.0000e+00 - total_loss: 25502.1844\n"
     ]
    },
    {
     "data": {
      "text/plain": [
       "<keras.src.callbacks.History at 0x172f431d0>"
      ]
     },
     "execution_count": 146,
     "metadata": {},
     "output_type": "execute_result"
    }
   ],
   "source": [
    "# Create a retrieval model.\n",
    "model = MovieLensModel(user_model, movie_model, task)\n",
    "model.compile(optimizer=tf.keras.optimizers.Adagrad(0.5))\n",
    "\n",
    "# Train for 3 epochs.\n",
    "model.fit(ratings.batch(4096), epochs=3)\n"
   ]
  },
  {
   "cell_type": "code",
   "execution_count": 148,
   "metadata": {},
   "outputs": [
    {
     "name": "stdout",
     "output_type": "stream",
     "text": [
      "Top 3 recommendations for user 42: [b'griffin' b'griffin' b'griffin']\n"
     ]
    }
   ],
   "source": [
    "\n",
    "# Use brute-force search to set up retrieval using the trained representations.\n",
    "index = tfrs.layers.factorized_top_k.BruteForce(model.user_model)\n",
    "index.index_from_dataset(\n",
    "    movies.batch(100).map(lambda x: (x['movie_title'], model.movie_model(x['movie_title']))))\n",
    "\n",
    "# Get some recommendations.\n",
    "_, titles = index(np.array([\"42\"]))\n",
    "print(f\"Top 3 recommendations for user 42: {titles[0, :3]}\")"
   ]
  }
 ],
 "metadata": {
  "kernelspec": {
   "display_name": "hkjc-tf",
   "language": "python",
   "name": "python3"
  },
  "language_info": {
   "codemirror_mode": {
    "name": "ipython",
    "version": 3
   },
   "file_extension": ".py",
   "mimetype": "text/x-python",
   "name": "python",
   "nbconvert_exporter": "python",
   "pygments_lexer": "ipython3",
   "version": "3.11.7"
  }
 },
 "nbformat": 4,
 "nbformat_minor": 2
}
